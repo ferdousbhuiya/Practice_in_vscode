{
 "cells": [
  {
   "cell_type": "code",
   "execution_count": null,
   "id": "6320bece-4f59-4ebd-a5d0-caf8184e6f7a",
   "metadata": {},
   "outputs": [],
   "source": [
    "#data structures \n",
    "# -list#mutable, ordered,duplicates are allowed\n",
    "# -tuple\n",
    "# -dictionary\n",
    "# -set\n",
    "\n",
    "# print(help(list))\n",
    "x=\"mak\"\n",
    "print(x[1])\n",
    "li=[\"mak\",\"1\",123,4.6]\n",
    "print(type(li))\n",
    "\n"
   ]
  },
  {
   "cell_type": "code",
   "execution_count": null,
   "id": "703a8cb8-8bed-42ba-9cde-1a740435be3d",
   "metadata": {},
   "outputs": [],
   "source": [
    "#empty list\n",
    "x=[]\n",
    "y=list()\n",
    "print(y)\n"
   ]
  },
  {
   "cell_type": "code",
   "execution_count": null,
   "id": "84e00ba6-7dd3-4bee-938e-253e00a220e8",
   "metadata": {},
   "outputs": [],
   "source": [
    "abc = [\"a\",\"b\",\"c\",\"d\"]\n",
    "len(abc)#len\n",
    "print(\"c\" not in abc)#membership op"
   ]
  },
  {
   "cell_type": "code",
   "execution_count": null,
   "id": "672cf856-5de0-443a-9097-a92f240ec917",
   "metadata": {},
   "outputs": [],
   "source": [
    "#positive and negative indexing\n",
    "li=[\"a\",\"b\",\"c\",\"d\",\"e\",\"f\",\"g\",\"h\"]\n",
    "li[2]\n",
    "# print(li[5])\n",
    "print(li[-1])\n",
    "\n",
    "#list slicing\n",
    "li[1:4]\n",
    "print(li[-3:-1])\n",
    "\n",
    "#list slicing by steps\n",
    "print(li[3:7:2])\n",
    "print(li[2::3])\n",
    "\n",
    "#print(li[-6:-2:2])\n",
    "#print(li[::-1])\n",
    "\n",
    "\n",
    "#acces and update elements on a list\n",
    "li=[\"a\",\"b\",\"c\",\"d\",\"e\",\"g\"]\n",
    "print(li[3])\n",
    "li[2]=\"mak\"\n",
    "print(li)\n",
    "\n",
    "\n",
    "# list iteration\n",
    "# for i in li:\n",
    "#     print(i)\n",
    "\n",
    "\n",
    "#list iteration with conditional logic\n",
    "for i in li:\n",
    "    print(i)\n",
    "    if i==\"e\":\n",
    "        print(\"found\")\n",
    "\n",
    "\n",
    "\n"
   ]
  },
  {
   "cell_type": "code",
   "execution_count": null,
   "id": "8c83e550-9ebf-424d-9b33-0de0e67a636a",
   "metadata": {},
   "outputs": [],
   "source": [
    "# list methods or functions\n",
    "# dir(list)\n",
    "#reverse or reversed\n",
    "# li=[1,2,3,4,5]\n",
    "# print(list(reversed(li)))\n",
    "# for i in reversed(li):\n",
    "#     print(i)"
   ]
  },
  {
   "cell_type": "code",
   "execution_count": null,
   "id": "249f2a09-97da-429e-8111-9a9ae62beb4a",
   "metadata": {},
   "outputs": [],
   "source": [
    "li=[\"a\",\"b\",\"c\",\"d\",\"e\"]\n",
    "#enumerate function\n",
    "# for index,value in enumerate(li):\n",
    "#     print(index, value)\n",
    "# print(list(enumerate(li)))\n"
   ]
  },
  {
   "cell_type": "code",
   "execution_count": null,
   "id": "e9169efb-46f6-420a-831e-bcf6a1367437",
   "metadata": {},
   "outputs": [],
   "source": [
    "#list:mutation\n",
    "li=[\"a\",\"b\",\"c\",\"d\",\"e\"]\n",
    "li[4]=\"mak\"\n",
    "li\n",
    "\n",
    "# li[0:3]=\"madhvendra\"\n",
    "# li\n",
    "\n",
    "# x=\"masdjgfkshksdj\"\n",
    "# li[:]=x\n",
    "# li\n",
    "\n",
    "li[:3]=[\"madhvendra\"]\n",
    "print(li)"
   ]
  },
  {
   "cell_type": "code",
   "execution_count": null,
   "id": "06dcb752-4c73-4fb3-b3f7-68f05e988c63",
   "metadata": {},
   "outputs": [],
   "source": [
    "#append method\n",
    "li=[1,2,3,4,5,6,7,8,9]\n",
    "\n",
    "# li.append(\"mak\")\n",
    "# print(li)\n",
    "\n",
    "\n",
    "    "
   ]
  },
  {
   "cell_type": "code",
   "execution_count": null,
   "id": "92601dd4-0cb8-420a-ada7-057748b0b7e9",
   "metadata": {},
   "outputs": [],
   "source": [
    "#extend method\n",
    "li=[1,2,3,4,5]\n",
    "li.extend(\"madhvendra\")\n",
    "print(li)\n",
    "\n",
    "#[1,2,3,4,5,6] conert all the elements inside this list into strings\n",
    "\n"
   ]
  },
  {
   "cell_type": "code",
   "execution_count": null,
   "id": "cf72bdbc-b963-4e06-aa0a-eebbef5f4caf",
   "metadata": {},
   "outputs": [],
   "source": [
    "#insert method\n",
    "li=[1,2,3,4,5]\n",
    "li.insert(2,\"mak\")\n",
    "li"
   ]
  },
  {
   "cell_type": "code",
   "execution_count": null,
   "id": "8d4e9bb8-f74a-4be3-b17e-e1ac12008dab",
   "metadata": {},
   "outputs": [],
   "source": [
    "#the pop methods\n",
    "li=[\"a\",\"b\",\"c\",\"d\",\"e\"]\n",
    "x=li.pop(2)\n",
    "print(li)\n",
    "print(x)"
   ]
  },
  {
   "cell_type": "code",
   "execution_count": null,
   "id": "70c96f11-32e8-4822-8f42-fca808ae7fd6",
   "metadata": {},
   "outputs": [],
   "source": [
    "#clear method\n",
    "li.clear()\n",
    "print(li)"
   ]
  },
  {
   "cell_type": "code",
   "execution_count": null,
   "id": "70333731-7793-4210-99ff-0067927470cc",
   "metadata": {},
   "outputs": [],
   "source": [
    "#remove method\n",
    "x=[\"a\",\"b\",\"c\",\"d\",\"e\"]\n",
    "x.remove(\"d\")\n",
    "print(x)"
   ]
  },
  {
   "cell_type": "code",
   "execution_count": null,
   "id": "b0a7aa15-8afc-4862-a16a-b9cc9f43f392",
   "metadata": {},
   "outputs": [],
   "source": [
    "#sort method\n",
    "li=[6,4,31,7,3,1]\n",
    "li.sort()\n",
    "print(li)"
   ]
  },
  {
   "cell_type": "code",
   "execution_count": null,
   "id": "3518d9de-3a90-4d03-bbad-4b2027c14322",
   "metadata": {},
   "outputs": [],
   "source": [
    "#the count method\n",
    "li=[1,2,2,2,2,3,4,5]\n",
    "print(li.count(2))"
   ]
  },
  {
   "cell_type": "code",
   "execution_count": null,
   "id": "a6fa13a7-1ba5-4724-ba85-048b3bb28302",
   "metadata": {},
   "outputs": [],
   "source": [
    "#index method\n",
    "print(li.index(5))"
   ]
  },
  {
   "cell_type": "code",
   "execution_count": null,
   "id": "48124aea-58ec-4d0c-891c-b92c33090221",
   "metadata": {},
   "outputs": [],
   "source": [
    "#split method==>return list\n",
    "li=\"a,b,c,e,f,d\"\n",
    "print(li.split(\", \"))\n"
   ]
  },
  {
   "cell_type": "code",
   "execution_count": null,
   "id": "b1d97814-a2f2-475f-b16a-cb46663b1523",
   "metadata": {},
   "outputs": [],
   "source": [
    "#the join method\n",
    "x=[\"123\",\"456\",\"321\"]\n",
    "print(\"#\".join(x))\n",
    "print(\"@@@@@@@@@\".join(x))\n"
   ]
  },
  {
   "cell_type": "code",
   "execution_count": null,
   "id": "a7ddb015-f649-407c-92bd-39e575e22ac8",
   "metadata": {},
   "outputs": [],
   "source": [
    "#list comphrehension\n",
    "x=[1,2,3,4,5,6]\n",
    "print([i**3 for i in x ])"
   ]
  },
  {
   "cell_type": "code",
   "execution_count": null,
   "id": "9d98b4a9-16b9-403a-9f03-47ba14c9d576",
   "metadata": {},
   "outputs": [],
   "source": [
    "x=[1,2,3,4,5,6]\n",
    "print([float(i) for i in x])\n",
    "print([i for i in x if i%2==0])\n",
    "\n",
    "li=[\"mak\",\"amit\",\"akash\"]\n",
    "print([len(i) for i in li])\n"
   ]
  },
  {
   "cell_type": "code",
   "execution_count": null,
   "id": "c32ae214-1491-4d69-8c73-1657b863adc5",
   "metadata": {},
   "outputs": [],
   "source": [
    "# Question:\n",
    "\n",
    "# \n",
    "\n"
   ]
  },
  {
   "cell_type": "code",
   "execution_count": 1,
   "id": "81701f95",
   "metadata": {},
   "outputs": [
    {
     "name": "stdout",
     "output_type": "stream",
     "text": [
      "[]\n"
     ]
    }
   ],
   "source": [
    "# Create an empty list and assign it to the variable \"empty\".\n",
    "empty = []\n",
    "print(empty)"
   ]
  },
  {
   "cell_type": "code",
   "execution_count": 2,
   "id": "746f1ef5",
   "metadata": {},
   "outputs": [
    {
     "name": "stdout",
     "output_type": "stream",
     "text": [
      "[True]\n"
     ]
    }
   ],
   "source": [
    "# Create a list with a single Boolean — True — and assign it to the variable \"active\".\n",
    "active = [True]\n",
    "print(active)"
   ]
  },
  {
   "cell_type": "code",
   "execution_count": 3,
   "id": "54a485f5",
   "metadata": {},
   "outputs": [
    {
     "name": "stdout",
     "output_type": "stream",
     "text": [
      "[45, 67, 34, 23, 7]\n"
     ]
    }
   ],
   "source": [
    "# Create a list with 5 integers of your choice and assign it to the variable \"favorite_numbers\".\n",
    "favourite_numbers = [45,67,34,23,7]\n",
    "print(favourite_numbers)"
   ]
  },
  {
   "cell_type": "code",
   "execution_count": 4,
   "id": "f21da398",
   "metadata": {},
   "outputs": [
    {
     "name": "stdout",
     "output_type": "stream",
     "text": [
      "['red', 'green', 'blue']\n"
     ]
    }
   ],
   "source": [
    "# Create a list with 3 strings  — \"red\", \"green\", \"blue\" — and assign it to the variable \"colors\".\n",
    "colors = [\"red\", \"green\", \"blue\"]\n",
    "print(colors)"
   ]
  },
  {
   "cell_type": "code",
   "execution_count": 16,
   "id": "ae2210dd",
   "metadata": {},
   "outputs": [
    {
     "name": "stdout",
     "output_type": "stream",
     "text": [
      "User list: [1, 2, 3]\n",
      "False\n"
     ]
    }
   ],
   "source": [
    "#Question:  Declare an is_long function that accepts a single list as an argument.\n",
    "#            It should return True if the list has more than 5 elements, and False otherwise\n",
    "\n",
    "# Answer:\n",
    "\n",
    "# User cannot give a list directly as an input. We have to create list from the user input\n",
    "# there are differeent methods available. here we have used one method. \n",
    "# anothe method we can use, if an user give the value, comma or space seperated then we can \n",
    "# convert that values in a list. \n",
    "\n",
    "\n",
    "def get_list_from_user():\n",
    "    \"\"\"\n",
    "    Takes input from the user and creates a list.\n",
    "\n",
    "    Returns:\n",
    "        A list of integers entered by the user.\n",
    "    \"\"\"\n",
    "    user_list = []\n",
    "    n = int(input(\"Enter the number of elements: \"))\n",
    "    for i in range(n):\n",
    "        ele = int(input(f\"Enter element {i + 1}: \"))\n",
    "        user_list.append(ele)\n",
    "    return user_list\n",
    "\n",
    "def is_long(value):\n",
    "   return len(value)\n",
    "\n",
    "# Example usage:\n",
    "user_input = get_list_from_user()\n",
    "print(\"User list:\", user_input)\n",
    "# print(\"Is the input a list or a single integer?\", is_long(user_input))\n",
    "if is_long(user_input)>5:\n",
    "    print(\"True\")\n",
    "else:\n",
    "    print(\"False\")\n",
    "\n"
   ]
  },
  {
   "cell_type": "code",
   "execution_count": null,
   "id": "1b74a261-6b8c-4494-a2d6-c71a33e4da63",
   "metadata": {},
   "outputs": [],
   "source": [
    "# Question:\n",
    "\n",
    "# Define a first_and_last function that accepts a list of strings. \n",
    "# The function should return a concatenation of the first element and the last element. \n",
    "# Assume the list will always have 1 or more elements.\n",
    "#\n",
    "# first_and_last([\"a\", \"b\", \"c\"])        => \"ac\"\n",
    "    # first_and_last([\"bob\", \"tom\", \"rob\"])  => \"bobrob\"\n",
    "# first_and_last([\"a\"])                  => \"aa\""
   ]
  },
  {
   "cell_type": "code",
   "execution_count": 22,
   "id": "e9bf8cb8",
   "metadata": {},
   "outputs": [
    {
     "name": "stdout",
     "output_type": "stream",
     "text": [
      "ferdousbhuiya\n"
     ]
    }
   ],
   "source": [
    "# Answer:\n",
    "\n",
    "def get_list_from_user():\n",
    "    user_list = []\n",
    "    n = int(input(\"Enter the number of elements: \"))\n",
    "    for i in range(n):\n",
    "        ele = input(f\"Enter element {i + 1}: \")\n",
    "        user_list.append(ele)\n",
    "    return user_list\n",
    "\n",
    "def first_and_last(x):\n",
    "    first_elmt = x[0]\n",
    "    last_elmt = x[-1]\n",
    "    return first_elmt+last_elmt\n",
    "result = first_and_last(get_list_from_user())\n",
    "\n",
    "print(result)"
   ]
  },
  {
   "cell_type": "code",
   "execution_count": 24,
   "id": "fc214b41",
   "metadata": {},
   "outputs": [
    {
     "name": "stdout",
     "output_type": "stream",
     "text": [
      "['a']\n",
      "aa\n"
     ]
    }
   ],
   "source": [
    "# Alternative solution:\n",
    "\n",
    "def get_list_from_user():\n",
    "    user_list = []\n",
    "    n = int(input(\"Enter the number of elements: \"))\n",
    "    for i in range(n):\n",
    "        ele = input(f\"Enter element {i + 1}: \")\n",
    "        user_list.append(ele)\n",
    "    return user_list\n",
    "\n",
    "def first_and_last(x):\n",
    "    first_elmt = x[0]\n",
    "    last_elmt = x[-1]\n",
    "    return first_elmt + last_elmt\n",
    "\n",
    "# Get the user input list\n",
    "user_lst = get_list_from_user()\n",
    "\n",
    "# Call first_and_last function with the user input list\n",
    "result = first_and_last(user_lst)\n",
    "\n",
    "# Print the original user input list and the result\n",
    "print(user_lst)\n",
    "print(result)\n"
   ]
  },
  {
   "cell_type": "code",
   "execution_count": null,
   "id": "fdfbbcd1-5cac-4ba6-9157-2fc360899f89",
   "metadata": {},
   "outputs": [],
   "source": [
    "# Question:\n",
    "\n",
    "# Define a product_of_even_indices function that accepts a list of numbers. \n",
    "# The list will always have 6 total elements. \n",
    "# The function should return the product (multiplied total) of all numbers at an even index (0, 2, 4).\n",
    "#\n",
    "# product_of_even_indices([1, 2, 3, 4, 5, 6])    =>  15\n",
    "# product_of_even_indices([3, 4, 3, 5, 3, 6])    =>  27"
   ]
  },
  {
   "cell_type": "code",
   "execution_count": 27,
   "id": "f4432606",
   "metadata": {},
   "outputs": [
    {
     "name": "stdout",
     "output_type": "stream",
     "text": [
      "[1, 2, 3, 4, 5, 6]\n",
      "15\n"
     ]
    }
   ],
   "source": [
    "# Solution:\n",
    "def get_list_from_user():\n",
    "    user_list = []\n",
    "    n = 6\n",
    "    for i in range(n):\n",
    "        ele = int(input(f\"Enter element {i + 1}: \"))\n",
    "        user_list.append(ele)\n",
    "    return user_list\n",
    "\n",
    "def product_of_even_indices(lst):\n",
    "    # Ensure the list has exactly 6 elements\n",
    "    if len(lst) != 6:\n",
    "        return \"List must have exactly 6 elements\"\n",
    "    \n",
    "    # Initialize the product to 1\n",
    "    product = 1\n",
    "    \n",
    "    # Iterate over the list and multiply numbers at even indices (0, 2, 4)\n",
    "    for i in range(0, len(lst), 2):\n",
    "        product *= lst[i]\n",
    "    return product\n",
    "\n",
    "usr_lst = get_list_from_user()\n",
    "print(\"The input list is: \",usr_lst)\n",
    "rslt = product_of_even_indices(usr_lst)\n",
    "print(\"The product of the even indices is: \",rslt)"
   ]
  },
  {
   "cell_type": "code",
   "execution_count": null,
   "id": "7bb5f119-f43a-4fbc-a63d-9fadf64fc1d6",
   "metadata": {},
   "outputs": [],
   "source": [
    "# Define a split_in_two function that accepts a list and a number.\n",
    "# If the number is even, return the list elements from the third element to the end of the list.\n",
    "# If the number is odd, return the list elements from index 0 (inclusive) to 2 (exclusive)\n",
    "#\n",
    "# EXAMPLE:\n",
    "# values = [\"a\", \"b\", \"c\", \"d\", \"e\", \"f\"]\n",
    "# split_in_two(values, 3)     => [\"a\", \"b\"]\n",
    "# split_in_two(values, 4)     => [\"c\", \"d\", \"e\", \"f\"]\n",
    "# split_in_two(values, 1)     => [\"a\", \"b\"]\n",
    "# split_in_two(values, 10)    => [\"c\", \"d\", \"e\", \"f\"]\n"
   ]
  },
  {
   "cell_type": "code",
   "execution_count": 44,
   "id": "68b467b1",
   "metadata": {},
   "outputs": [
    {
     "name": "stdout",
     "output_type": "stream",
     "text": [
      "['1', '2']\n",
      "The input list: ['1', '2', '3', '4', '5', '']\n"
     ]
    }
   ],
   "source": [
    "# Solution:\n",
    "\n",
    "def main():\n",
    "    list_from_user = get_list_from_user()\n",
    "    intgr_inpt = int(input(\"Give an integer: \"))\n",
    "    split_in_two(list_from_user, intgr_inpt)\n",
    "    print(\"The input list:\", list_from_user)  \n",
    "\n",
    "def get_list_from_user():\n",
    "    user_list = []\n",
    "    n = int(input(\"Enter the number of elements you want to insert in the list: \"))\n",
    "    for i in range(n):\n",
    "        ele = input(f\"Enter element {i + 1}: \")\n",
    "        user_list.append(ele)\n",
    "    return user_list\n",
    "\n",
    "def split_in_two(x, y):\n",
    "    if y % 2 == 0:\n",
    "        result = x[2:]\n",
    "    else:\n",
    "        result = x[:2]\n",
    "    print(result)\n",
    "\n",
    "# Example usage:\n",
    "if __name__ == \"__main__\":\n",
    "    main()\n"
   ]
  },
  {
   "cell_type": "code",
   "execution_count": 40,
   "id": "c2c19049-5acf-4c3f-9139-af740fe39d16",
   "metadata": {},
   "outputs": [],
   "source": [
    "# Define a sum_of_lengths function that accepts a list of strings.\n",
    "# The function should return the sum of the string lengths.\n",
    "#\n",
    "# EXAMPLES\n",
    "# sum_of_lengths([\"Hello\", \"Bob\"])                  => 8\n",
    "# sum_of_lengths([\"Nonsense\"])                      => 8\n",
    "# sum_of_lengths([\"Nonsense\", \"or\", \"confidence\"])  => 20"
   ]
  },
  {
   "cell_type": "code",
   "execution_count": 54,
   "id": "10ed61fd",
   "metadata": {},
   "outputs": [
    {
     "name": "stdout",
     "output_type": "stream",
     "text": [
      "Output of combined string:  helloworld\n",
      "The provided list is:  ['hello', 'world']\n",
      "Total characters in the list: 10\n"
     ]
    }
   ],
   "source": [
    "# Solution:\n",
    "\n",
    "def main():\n",
    "    list_from_user = get_list_from_user()\n",
    "    total_char = sum_of_lengths(list_from_user)\n",
    "    print(\"The provided list is: \", list_from_user)\n",
    "    print(\"Total characters in the list:\", total_char) \n",
    "\n",
    "def get_list_from_user():\n",
    "    user_list = []\n",
    "    n = int(input(\"Enter the number of elements you want to insert in the list: \"))\n",
    "    for i in range(n):\n",
    "        ele = input(f\"Enter element {i + 1}: \")\n",
    "        user_list.append(ele)\n",
    "    return user_list\n",
    "\n",
    "def sum_of_lengths(x):\n",
    "    # Join all the strings in the list into a single string\n",
    "    combined_string = ''.join(x)\n",
    "    print(\"Output of combined string: \",combined_string)\n",
    "    # Count the total number of characters in the combined string\n",
    "    total_characters = len(combined_string)\n",
    "    return total_characters\n",
    "\n",
    "if __name__ == \"__main__\":\n",
    "    main()\n",
    "\n",
    "    "
   ]
  },
  {
   "cell_type": "code",
   "execution_count": null,
   "id": "60db6b17-7840-45ba-b997-318e757bda17",
   "metadata": {},
   "outputs": [],
   "source": [
    "# Define a product function that accepts a list of numbers.\n",
    "# The function should return the product of the numbers.\n",
    "# The list will always have at least one value\n",
    "#\n",
    "# EXAMPLES\n",
    "# product([1, 2, 3])     => 6\n",
    "# product([4, 5, 6, 7])  => 840\n",
    "# product([10])          => 10"
   ]
  },
  {
   "cell_type": "code",
   "execution_count": 61,
   "id": "fb5b79c5",
   "metadata": {},
   "outputs": [
    {
     "name": "stdout",
     "output_type": "stream",
     "text": [
      "You have provided zero or negative elements. Returning an empty list.\n",
      "The provided list is:  []\n",
      "The product of the elements is: 1\n"
     ]
    }
   ],
   "source": [
    "# Solution:\n",
    "def main():\n",
    "    list_from_user = get_list_from_user()\n",
    "    prodct = product(list_from_user)\n",
    "    print(\"The provided list is: \", list_from_user)\n",
    "    print(\"The product of the elements is:\", prodct) \n",
    "\n",
    "def get_list_from_user():\n",
    "    user_list = []\n",
    "    n = int(input(\"Enter the number of elements you want to insert in the list: \"))\n",
    "    if n <= 0:\n",
    "        print(\"You have provided zero or negative elements. Returning an empty list.\")\n",
    "        return user_list\n",
    "    else:\n",
    "        try:\n",
    "            for i in range(n):\n",
    "                ele = int(input(f\"Enter element {i + 1}: \"))\n",
    "                user_list.append(ele)\n",
    "            return user_list\n",
    "        except ValueError:\n",
    "            print(\"Invalid input. Please enter integers only.\")\n",
    "            return user_list\n",
    "\n",
    "        \n",
    "def product(x):\n",
    "    prod = 1\n",
    "    for i in x:\n",
    "        prod *= i\n",
    "    return prod\n",
    "\n",
    "if __name__ == \"__main__\":\n",
    "    main()\n",
    "\n"
   ]
  },
  {
   "cell_type": "code",
   "execution_count": null,
   "id": "4a1047f5-a34d-4220-805b-31e068ca54e5",
   "metadata": {},
   "outputs": [],
   "source": [
    "# Define a smallest_number function  that accepts a list of numbers.\n",
    "# It should return the smallest value in the list.\n",
    "#\n",
    "# smallest_number([1, 2, 3])     =&gt; 1\n",
    "# smallest_number([3, 2, 1])     =&gt; 1\n",
    "# smallest_number([4, 5, 4])     =&gt; 4\n",
    "# smallest_number([-3, -2, -1])  =&gt; -3"
   ]
  },
  {
   "cell_type": "code",
   "execution_count": 65,
   "id": "b34c12e3",
   "metadata": {},
   "outputs": [
    {
     "name": "stdout",
     "output_type": "stream",
     "text": [
      "The provided list is:  [12, -9, 56]\n",
      "The smallest number is: -9\n"
     ]
    }
   ],
   "source": [
    "# Solution:\n",
    "\n",
    "def main():\n",
    "    list_from_user = get_list_from_user()\n",
    "    smll_nubr = smallest_number(list_from_user)\n",
    "    print(\"The provided list is: \", list_from_user)\n",
    "    print(\"The smallest number is:\", smll_nubr) \n",
    "\n",
    "def get_list_from_user():\n",
    "    user_list = []\n",
    "    n = int(input(\"Enter the number of elements you want to insert in the list: \"))\n",
    "    if n <= 0:\n",
    "        print(\"You have provided zero or negative elements. Returning an empty list.\")\n",
    "        return user_list\n",
    "    else:\n",
    "        try:\n",
    "            for i in range(n):\n",
    "                ele = int(input(f\"Enter element {i + 1}: \"))\n",
    "                user_list.append(ele)\n",
    "            return user_list\n",
    "        except ValueError:\n",
    "            print(\"Invalid input. Please enter integers only.\")\n",
    "            return user_list\n",
    "        \n",
    "def smallest_number(x):\n",
    "    if not x:\n",
    "        return None  # Return None for an empty list\n",
    "    s_nmbr = x[0]  # Initialize with the first element\n",
    "    for i in x:\n",
    "        if i < s_nmbr:\n",
    "            s_nmbr = i\n",
    "    return s_nmbr\n",
    "\n",
    "\n",
    "if __name__ == \"__main__\":\n",
    "    main()\n"
   ]
  },
  {
   "cell_type": "code",
   "execution_count": null,
   "id": "84773e76-8729-4cc9-ad7b-39ff212c3863",
   "metadata": {},
   "outputs": [],
   "source": [
    "# Define a super_sum function that accepts a list of strings. \n",
    "# The function should sum the index positions of the first occurence of the letter “s” in each word. \n",
    "#\n",
    "# Not every word is guaranteed to have an “s”.\n",
    "# Don’t use \"sum\" as a variable name as it’s a built-in keyword.\n",
    "#\n",
    "# super_sum([])                                 =&gt; 0\n",
    "# super_sum([\"mustache\"])                       =&gt; 2\n",
    "# super_sum([\"mustache\", \"greatest\"])           =&gt; 8\n",
    "# super_sum([\"mustache\", \"pessimist\"])          =&gt; 4\n",
    "# super_sum([\"mustache\", \"greatest\", \"almost\"]) =&gt; 12"
   ]
  },
  {
   "cell_type": "code",
   "execution_count": 67,
   "id": "3bce1ee7",
   "metadata": {},
   "outputs": [
    {
     "name": "stdout",
     "output_type": "stream",
     "text": [
      "The provided list is: ['desert', 'insert', 'security']\n",
      "The super sum of the indices is: 4\n"
     ]
    }
   ],
   "source": [
    "# Solution:\n",
    "\n",
    "def main():\n",
    "    list_from_user = get_list_from_user()\n",
    "    if list_from_user:\n",
    "        t_sum = super_sum(list_from_user)\n",
    "        print(\"The provided list is:\", list_from_user)\n",
    "        print(\"The super sum of the indices is:\", t_sum)\n",
    "\n",
    "def get_list_from_user():\n",
    "    user_list = []\n",
    "    try:\n",
    "        n = int(input(\"Enter the number of elements you want to insert in the list: \"))\n",
    "        if n <= 0:\n",
    "            print(\"Please enter a positive integer.\")\n",
    "            return None\n",
    "        for i in range(n):\n",
    "            ele = input(f\"Enter element {i + 1}: \")\n",
    "            user_list.append(ele)\n",
    "        return user_list\n",
    "    except ValueError:\n",
    "        print(\"Invalid input. Please enter a valid integer.\")\n",
    "        return None\n",
    "\n",
    "def super_sum(x):\n",
    "    total_sum = 0\n",
    "    for word in x:\n",
    "        # Find the index of the first occurrence of 's' in the word\n",
    "        index = word.find('s')\n",
    "        # If 's' is found in the word, add its index to the total sum\n",
    "        if index != -1:\n",
    "            total_sum += index\n",
    "    return total_sum\n",
    "\n",
    "if __name__ == \"__main__\":\n",
    "    main()"
   ]
  },
  {
   "cell_type": "code",
   "execution_count": null,
   "id": "7f1a7068-3def-434a-a5f9-efda7e0acf64",
   "metadata": {},
   "outputs": [],
   "source": [
    "# Define an in_list function that accepts a list of strings and a separate string.\n",
    "# Return the index where the string exists in the list.\n",
    "# If the string does not exist, return -1.\n",
    "# Do NOT use the find or index methods.\n",
    "#\n",
    "# EXAMPLES\n",
    "# strings = [\"enchanted\", \"sparks fly\", \"long live\"]\n",
    "# in_list(strings, \"enchanted\")  ==> 0\n",
    "# in_list(strings, \"sparks fly\") ==> 1\n",
    "# in_list(strings, \"fifteen\")    ==> -1\n",
    "# in_list(strings, \"love story\") ==> -1"
   ]
  },
  {
   "cell_type": "code",
   "execution_count": 68,
   "id": "fbaa0e3e-6e4b-4901-8dd8-f069b245b7a0",
   "metadata": {},
   "outputs": [
    {
     "name": "stdout",
     "output_type": "stream",
     "text": [
      "The provided list is: ['sumy', 'aqsa', 'shoma']\n",
      "The index number of the string: 1\n"
     ]
    }
   ],
   "source": [
    "# Solution:\n",
    "\n",
    "def main():\n",
    "    str_inpt = input(\"Give the string to find in the list\")\n",
    "    list_from_user = get_list_from_user()\n",
    "    if list_from_user:\n",
    "        indx_nmbr = in_list(list_from_user, str_inpt)\n",
    "        print(\"The provided list is:\", list_from_user)\n",
    "        print(\"The index number of the string:\", indx_nmbr)\n",
    "\n",
    "def get_list_from_user():\n",
    "    user_list = []\n",
    "    try:\n",
    "        n = int(input(\"Enter the number of elements you want to insert in the list: \"))\n",
    "        if n <= 0:\n",
    "            print(\"Please enter a positive integer.\")\n",
    "            return None\n",
    "        for i in range(n):\n",
    "            ele = input(f\"Enter element {i + 1}: \")\n",
    "            user_list.append(ele)\n",
    "        return user_list\n",
    "    except ValueError:\n",
    "        print(\"Invalid input. Please enter a valid integer.\")\n",
    "        return None\n",
    "\n",
    "def in_list(usr_lst, target):\n",
    "    for i, item in enumerate(usr_lst):\n",
    "        if item == target:\n",
    "            return i\n",
    "    return -1\n",
    "\n",
    "\n",
    "if __name__ == \"__main__\":\n",
    "    main()\n"
   ]
  },
  {
   "cell_type": "code",
   "execution_count": null,
   "id": "1f64b906-35da-4a26-a98b-36470a5312ce",
   "metadata": {},
   "outputs": [],
   "source": []
  }
 ],
 "metadata": {
  "kernelspec": {
   "display_name": "Python 3 (ipykernel)",
   "language": "python",
   "name": "python3"
  },
  "language_info": {
   "codemirror_mode": {
    "name": "ipython",
    "version": 3
   },
   "file_extension": ".py",
   "mimetype": "text/x-python",
   "name": "python",
   "nbconvert_exporter": "python",
   "pygments_lexer": "ipython3",
   "version": "3.12.3"
  }
 },
 "nbformat": 4,
 "nbformat_minor": 5
}
