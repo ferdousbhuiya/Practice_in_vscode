{
 "cells": [
  {
   "cell_type": "code",
   "execution_count": 1,
   "id": "c0d5dc9e-bc15-43cb-b1bd-2bfd103c164f",
   "metadata": {},
   "outputs": [
    {
     "name": "stdout",
     "output_type": "stream",
     "text": [
      "{1: 'mak', 2: 'sam', 3: 'alan'}\n"
     ]
    }
   ],
   "source": [
    "#dictionary\n",
    "x=12\n",
    "y=\"mak\"\n",
    "z=[1,2,3,4,5]\n",
    "a = {1: \"mak\", 2:\"sam\",3:\"alan\"}\n",
    "print(a)\n",
    "\n",
    "#a_var= {}\n",
    "diction = dict()"
   ]
  },
  {
   "cell_type": "code",
   "execution_count": 2,
   "id": "bab8db0d-9780-4f34-b207-cafdf1543d83",
   "metadata": {},
   "outputs": [
    {
     "name": "stdout",
     "output_type": "stream",
     "text": [
      "{'a': 'mak', 'b': 'alan', 'c': 'suzzane'}\n"
     ]
    }
   ],
   "source": [
    "x={\"a\":\"mak\", \"b\":\"alan\", \"c\":\"suzzane\"}\n",
    "print(x)"
   ]
  },
  {
   "cell_type": "code",
   "execution_count": 4,
   "id": "4dad82ba-7f35-4817-8294-2f73f5df5afc",
   "metadata": {},
   "outputs": [
    {
     "name": "stdout",
     "output_type": "stream",
     "text": [
      "3\n",
      "alan\n"
     ]
    }
   ],
   "source": [
    "print(len(x))\n",
    "#access value in a dict\n",
    "print(x[\"b\"])"
   ]
  },
  {
   "cell_type": "code",
   "execution_count": 5,
   "id": "582ca833-5680-477b-a2f5-bf2003ab2e2e",
   "metadata": {},
   "outputs": [
    {
     "name": "stdout",
     "output_type": "stream",
     "text": [
      "{'a': 'mak', 'b': 'alan', 'c': 'suzzane', 'd': 'dhoni'}\n"
     ]
    }
   ],
   "source": [
    "#update elements in a dict\n",
    "x[\"d\"]=\"dhoni\"\n",
    "print(x)"
   ]
  },
  {
   "cell_type": "code",
   "execution_count": 8,
   "id": "b161ee34-5f09-4fbb-bac9-449bc0ccf7e0",
   "metadata": {},
   "outputs": [
    {
     "name": "stdout",
     "output_type": "stream",
     "text": [
      "dhoni\n",
      "1001\n",
      "{'a': 'mak', 'b': 'alan', 'c': 'suzzane', 'd': 'dhoni'}\n"
     ]
    }
   ],
   "source": [
    "#get method\n",
    "print(x.get(\"d\"))\n",
    "print(x.get(\"e\",\"1001\"))\n",
    "print(x)"
   ]
  },
  {
   "cell_type": "code",
   "execution_count": 12,
   "id": "5dd59647-2edc-4320-a006-915e093825eb",
   "metadata": {},
   "outputs": [
    {
     "name": "stdout",
     "output_type": "stream",
     "text": [
      "alan\n",
      "mak\n",
      "{'a': 'mak', 'b': 'alan', 'c': 'suzzane', 'd': 'dhoni', 'g': 'mak'}\n"
     ]
    }
   ],
   "source": [
    "#setdefault method\n",
    "print(x.setdefault(\"b\"))\n",
    "print(x.setdefault(\"g\",\"mak\"))\n",
    "print(x)"
   ]
  },
  {
   "cell_type": "code",
   "execution_count": 14,
   "id": "f322dfb6-3c8b-414c-8d39-0fdf547d2f27",
   "metadata": {},
   "outputs": [
    {
     "data": {
      "text/plain": [
       "{'a': 'mak', 'b': 'alan', 'c': 'suzzane', 'g': 'mak'}"
      ]
     },
     "execution_count": 14,
     "metadata": {},
     "output_type": "execute_result"
    }
   ],
   "source": [
    "#pop method\n",
    "x.pop(\"d\")\n",
    "x"
   ]
  },
  {
   "cell_type": "code",
   "execution_count": 15,
   "id": "bef0160b-8efb-41d5-9c31-c87d6d573142",
   "metadata": {},
   "outputs": [
    {
     "data": {
      "text/plain": [
       "{}"
      ]
     },
     "execution_count": 15,
     "metadata": {},
     "output_type": "execute_result"
    }
   ],
   "source": [
    "#clear method\n",
    "x.clear()\n",
    "x"
   ]
  },
  {
   "cell_type": "code",
   "execution_count": 22,
   "id": "20751b0b-c75b-4b56-9f52-c94310c84890",
   "metadata": {},
   "outputs": [
    {
     "name": "stdout",
     "output_type": "stream",
     "text": [
      "mak\n",
      "alan\n",
      "suzzane\n",
      "dhoni\n",
      "a\n",
      "b\n",
      "c\n",
      "d\n",
      "a mak\n",
      "b alan\n",
      "c suzzane\n",
      "d dhoni\n"
     ]
    }
   ],
   "source": [
    "#dict iteration\n",
    "di = {'a': 'mak', 'b': 'alan', 'c': 'suzzane', 'd': 'dhoni'}\n",
    "# for i in dict:\n",
    "#     print(i)\n",
    "\n",
    "#the values method\n",
    "for i in di.values():\n",
    "    print(i)\n",
    "\n",
    "\n",
    "#key method\n",
    "for i in di.keys():\n",
    "    print(i)\n",
    "\n",
    "#items method\n",
    "for i,j in di.items():\n",
    "    print(i,j)"
   ]
  },
  {
   "cell_type": "code",
   "execution_count": 24,
   "id": "7a7ee587-27e6-4a2c-a4fa-5284cef41a83",
   "metadata": {},
   "outputs": [
    {
     "name": "stdout",
     "output_type": "stream",
     "text": [
      "[1, 2, 3]\n"
     ]
    }
   ],
   "source": [
    "#the sorted fucntion\n",
    "di={3:\"a\", 1:\"b\",2:\"c\"}\n",
    "print(sorted(di))"
   ]
  },
  {
   "cell_type": "code",
   "execution_count": 26,
   "id": "c70fd546-9384-43c4-b2d7-c17f9caecba4",
   "metadata": {},
   "outputs": [
    {
     "name": "stdout",
     "output_type": "stream",
     "text": [
      "1 b\n",
      "2 c\n",
      "3 a\n"
     ]
    }
   ],
   "source": [
    "# dir(dict)\n",
    "for i,j in sorted(di.items()):\n",
    "    print(i,j)"
   ]
  },
  {
   "cell_type": "code",
   "execution_count": 29,
   "id": "500880cb-4b72-4220-8808-c8c48376ff2c",
   "metadata": {},
   "outputs": [
    {
     "name": "stdout",
     "output_type": "stream",
     "text": [
      "{'a': 2, 'b': 1, 'c': 1, 'd': 1, 'e': 1, 'f': 1, 'g': 1, 'h': 1, 'i': 1, 'j': 1, 'k': 1, 'l': 1, 'm': 4, 'n': 1, 'o': 1, 'p': 1, 'q': 1, 'r': 1, 's': 1, 't': 1, 'u': 1, 'v': 1, 'w': 1, 'x': 1, 'y': 1, 'z': 1}\n"
     ]
    }
   ],
   "source": [
    "#dict comphreshion\n",
    "languages = \"abcdefghijklmmmmnopqrstuvwxyza\"\n",
    "print({letter: languages.count(letter) for letter in languages})"
   ]
  },
  {
   "cell_type": "code",
   "execution_count": 32,
   "id": "db230852-96d4-4218-8ce0-be1ff59a8608",
   "metadata": {},
   "outputs": [
    {
     "name": "stdout",
     "output_type": "stream",
     "text": [
      "{'mumbai': 'mh', 'lucknow': 'up', 'panji': 'goa'}\n",
      "{'mumbai': 'mh', 'lucknow': 'up', 'panji': 'goa'}\n"
     ]
    }
   ],
   "source": [
    "capital = {\"mh\":\"mumbai\",\n",
    "          \"up\":\"lucknow\",\n",
    "          \"goa\":\"panji\"\n",
    "          }\n",
    "print({value:key for key,value in capital.items()})\n",
    "\n",
    "def abc(di):\n",
    "    ne_di = {}\n",
    "    for i,j in capital.items():\n",
    "        ne_di[j]=i\n",
    "    return ne_di\n",
    "print(abc(capital))"
   ]
  },
  {
   "cell_type": "code",
   "execution_count": 34,
   "id": "a5c4efd7-3f45-44c5-9cb2-abcd482df172",
   "metadata": {},
   "outputs": [
    {
     "data": {
      "text/plain": [
       "{1: 'b'}"
      ]
     },
     "execution_count": 34,
     "metadata": {},
     "output_type": "execute_result"
    }
   ],
   "source": [
    "di ={1:\"a\",1:\"b\"}\n",
    "di"
   ]
  },
  {
   "cell_type": "code",
   "execution_count": 36,
   "id": "29fe9f93-4c69-4255-928c-a55a4da4b3cd",
   "metadata": {},
   "outputs": [
    {
     "name": "stdout",
     "output_type": "stream",
     "text": [
      "<class 'tuple'>\n"
     ]
    }
   ],
   "source": [
    "#tuple \n",
    "x=(1,2,3,4,5)\n",
    "print(type(x))\n",
    "\n",
    "y=tuple()\n",
    "z=()\n"
   ]
  },
  {
   "cell_type": "code",
   "execution_count": 37,
   "id": "c7d483df-2940-40ee-b416-e18253406068",
   "metadata": {},
   "outputs": [
    {
     "name": "stdout",
     "output_type": "stream",
     "text": [
      "5\n"
     ]
    }
   ],
   "source": [
    "print(len(x))"
   ]
  },
  {
   "cell_type": "code",
   "execution_count": 38,
   "id": "deccc366-25ee-4954-9d95-443de28d8124",
   "metadata": {},
   "outputs": [
    {
     "name": "stdout",
     "output_type": "stream",
     "text": [
      "<class 'tuple'>\n"
     ]
    }
   ],
   "source": [
    "x=\"mak\",\n",
    "print(type(x))"
   ]
  },
  {
   "cell_type": "code",
   "execution_count": 41,
   "id": "3a506362-09fe-4307-93f1-c138a0fecc0a",
   "metadata": {},
   "outputs": [
    {
     "name": "stdout",
     "output_type": "stream",
     "text": [
      "c\n",
      "c\n",
      "('b', 'c', 'd')\n"
     ]
    }
   ],
   "source": [
    "#access\n",
    "x=(\"a\",\"b\",\"c\",\"d\")\n",
    "print(x[2])\n",
    "print(x[-2])\n",
    "print(x[1:4])"
   ]
  },
  {
   "cell_type": "code",
   "execution_count": 43,
   "id": "b8534fa9-ab46-47f6-9a2f-b4d37aa624ae",
   "metadata": {},
   "outputs": [
    {
     "data": {
      "text/plain": [
       "('a', 'mak', 'c', 'd')"
      ]
     },
     "execution_count": 43,
     "metadata": {},
     "output_type": "execute_result"
    }
   ],
   "source": [
    "x=(\"a\",\"b\",\"c\",\"d\")\n",
    "y = list(x)\n",
    "y[1]=\"mak\"\n",
    "x= tuple(y)\n",
    "x"
   ]
  },
  {
   "cell_type": "code",
   "execution_count": 65,
   "id": "a3f26024-b07d-4e2a-8f07-d3f7f7430db4",
   "metadata": {},
   "outputs": [
    {
     "name": "stdout",
     "output_type": "stream",
     "text": [
      "['alan', 'kwork']\n",
      "manager\n",
      "25\n"
     ]
    }
   ],
   "source": [
    "#unpacking atuple\n",
    "employee = \"alan\",\"kwork\",\"manager\",25\n",
    "first_name,last_name,*details=employee\n",
    "# print(first_name)\n",
    "# print(last_name)\n",
    "# print(details)\n",
    "\n",
    "*first_name, details,rank = employee\n",
    "print(first_name)\n",
    "print(details)\n",
    "print(rank)"
   ]
  },
  {
   "cell_type": "code",
   "execution_count": 55,
   "id": "77425f31-b582-4d7b-bf40-dc94d8dec17f",
   "metadata": {},
   "outputs": [
    {
     "name": "stdout",
     "output_type": "stream",
     "text": [
      "{1, 2, 3, 6, 7, 54}\n",
      "<class 'set'>\n",
      "set()\n"
     ]
    }
   ],
   "source": [
    "#set\n",
    "x={1,2,3,54,6,7,7}\n",
    "print(x)\n",
    "print(type(x))\n",
    "\n",
    "x=set()\n",
    "print(x)"
   ]
  },
  {
   "cell_type": "code",
   "execution_count": 59,
   "id": "f2294afd-9362-4baf-b32c-38c08a2986d1",
   "metadata": {},
   "outputs": [
    {
     "name": "stdout",
     "output_type": "stream",
     "text": [
      "1\n",
      "2\n",
      "3\n",
      "6\n",
      "7\n",
      "54\n",
      "True\n"
     ]
    }
   ],
   "source": [
    "x={1,2,3,54,6,7,7}\n",
    "for i in x:\n",
    "    print(i)\n",
    "\n",
    "# print(x[2])\n",
    "print(54 in x)"
   ]
  },
  {
   "cell_type": "code",
   "execution_count": 61,
   "id": "302622ca-8b49-4a7c-9866-301563f2fb38",
   "metadata": {},
   "outputs": [
    {
     "data": {
      "text/plain": [
       "{1, 2, 3, 54, 6, 7, 'orange'}"
      ]
     },
     "execution_count": 61,
     "metadata": {},
     "output_type": "execute_result"
    }
   ],
   "source": [
    "#set items with add method\n",
    "x.add(\"orange\")\n",
    "x"
   ]
  },
  {
   "cell_type": "code",
   "execution_count": 62,
   "id": "525d760f-5829-4eb2-8cb4-2284a10603c4",
   "metadata": {},
   "outputs": [
    {
     "data": {
      "text/plain": [
       "{1, 2, 3, 4, 'a', 'b', 'c'}"
      ]
     },
     "execution_count": 62,
     "metadata": {},
     "output_type": "execute_result"
    }
   ],
   "source": [
    "#update method==>add sets\n",
    "x={1,2,3,4}\n",
    "y={\"a\",\"b\",\"c\"}\n",
    "x.update(y)\n",
    "x"
   ]
  },
  {
   "cell_type": "code",
   "execution_count": 68,
   "id": "9ded8429-cf43-45cf-bc1e-bbcf827a2b82",
   "metadata": {},
   "outputs": [
    {
     "data": {
      "text/plain": [
       "{'a', 'c'}"
      ]
     },
     "execution_count": 68,
     "metadata": {},
     "output_type": "execute_result"
    }
   ],
   "source": [
    "#remove method\n",
    "x={\"a\",\"b\",\"c\"}\n",
    "x.remove(\"b\")\n",
    "x"
   ]
  },
  {
   "cell_type": "code",
   "execution_count": 69,
   "id": "38b946a9-062f-4564-b46c-f9ac11d4c870",
   "metadata": {},
   "outputs": [
    {
     "data": {
      "text/plain": [
       "{'a', 'c'}"
      ]
     },
     "execution_count": 69,
     "metadata": {},
     "output_type": "execute_result"
    }
   ],
   "source": [
    "#discard method\n",
    "x.discard(\"d\")\n",
    "x"
   ]
  },
  {
   "cell_type": "code",
   "execution_count": 71,
   "id": "6cf810be-e151-4f45-a3f5-fbebbb7668a7",
   "metadata": {},
   "outputs": [
    {
     "name": "stdout",
     "output_type": "stream",
     "text": [
      "{5}\n",
      "{5}\n"
     ]
    }
   ],
   "source": [
    "#the intersection ,ethod\n",
    "x={1,2,3,4,5}\n",
    "y={5,6,7,8,9}\n",
    "print(x.intersection(y))\n",
    "print(x & y)"
   ]
  },
  {
   "cell_type": "code",
   "execution_count": 73,
   "id": "c19a329c-262f-46ab-bd4a-2f43d5c8c948",
   "metadata": {},
   "outputs": [
    {
     "name": "stdout",
     "output_type": "stream",
     "text": [
      "{1, 2, 3, 4, 5, 6, 7, 8, 9}\n",
      "{1, 2, 3, 4, 5, 6, 7, 8, 9}\n"
     ]
    }
   ],
   "source": [
    "#the union method\n",
    "x={1,2,3,4,5}\n",
    "y={5,6,7,8,9}\n",
    "print(x.union(y))\n",
    "print(x | y)"
   ]
  },
  {
   "cell_type": "code",
   "execution_count": 75,
   "id": "fc886806-c7d7-49b9-bcd8-346ce8ed5e85",
   "metadata": {},
   "outputs": [
    {
     "name": "stdout",
     "output_type": "stream",
     "text": [
      "{1, 2, 3, 4}\n",
      "{1, 2, 3, 4}\n"
     ]
    }
   ],
   "source": [
    "#the diff method\n",
    "x={1,2,3,4,5}\n",
    "y={5,6,7,8,9}\n",
    "print(x.difference(y))\n",
    "print(x - y)"
   ]
  },
  {
   "cell_type": "code",
   "execution_count": 77,
   "id": "bbfeae7b-04ec-430a-bb15-73d67b99960c",
   "metadata": {},
   "outputs": [
    {
     "name": "stdout",
     "output_type": "stream",
     "text": [
      "{1, 2, 3, 4, 6, 7, 8, 9}\n",
      "{1, 2, 3, 4, 6, 7, 8, 9}\n"
     ]
    }
   ],
   "source": [
    "#the symmetric_difference method\n",
    "x={1,2,3,4,5}\n",
    "y={5,6,7,8,9}\n",
    "print(x.symmetric_difference(y))\n",
    "print(x ^ y)"
   ]
  },
  {
   "cell_type": "code",
   "execution_count": null,
   "id": "f3edd8e5-33ce-4c0d-86d2-1c5f221221ff",
   "metadata": {},
   "outputs": [],
   "source": [
    "# Define a to_dictionary function that accepts a list of strings. \n",
    "# The function should return a dictionary where the keys are the strings \n",
    "# and the values are their original index positions in the list.\n",
    "#\n",
    "# EXAMPLE:\n",
    "# detectives = [\"Sherlock Holmes\", \"Hercule Poirot\", \"Nancy Drew\"]\n",
    "# to_dictionary(detectives) =&gt; {'Sherlock Holmes': 0, 'Hercule Poirot': 1, 'Nancy Drew': 2}\n",
    "detectivess = [\"Sherlock Holmes\", \"Hercule Poirot\", \"Nancy Drew\"]"
   ]
  },
  {
   "cell_type": "code",
   "execution_count": 1,
   "id": "ab8dc8e4",
   "metadata": {},
   "outputs": [
    {
     "name": "stdout",
     "output_type": "stream",
     "text": [
      "The provided list is: ['jannat', 'jahannam', 'dojokh']\n",
      "The rquired dictionary is: {'jannat': 0, 'jahannam': 1, 'dojokh': 2}\n"
     ]
    }
   ],
   "source": [
    "# Solution:\n",
    "\n",
    "# Solution:\n",
    "\n",
    "def main():\n",
    "    list_from_user = get_list_from_user()\n",
    "    if list_from_user:\n",
    "        indx_nmbr = to_dictionary(list_from_user)\n",
    "        print(\"The provided list is:\", list_from_user)\n",
    "        print(\"The rquired dictionary is:\", indx_nmbr)\n",
    "\n",
    "def get_list_from_user():\n",
    "    user_list = []\n",
    "    try:\n",
    "        n = int(input(\"Enter the number of elements you want to insert in the list: \"))\n",
    "        if n <= 0:\n",
    "            print(\"Please enter a positive integer.\")\n",
    "            return None\n",
    "        for i in range(n):\n",
    "            ele = input(f\"Enter element {i + 1}: \")\n",
    "            user_list.append(ele)\n",
    "        return user_list\n",
    "    except ValueError:\n",
    "        print(\"Invalid input. Please enter a valid integer.\")\n",
    "        return None\n",
    "\n",
    "def to_dictionary(usr_lst):\n",
    "    return {string: idx for idx, string in enumerate(usr_lst)}\n",
    "\n",
    "if __name__ == \"__main__\":\n",
    "    main()\n"
   ]
  },
  {
   "cell_type": "code",
   "execution_count": null,
   "id": "bed211b5-139b-492d-be81-6fc490791ac2",
   "metadata": {},
   "outputs": [],
   "source": [
    "# Define a length_counts function that accepts a list of strings. \n",
    "# The function should return a dictionary where the keys represent\n",
    "# length and the values represent how many strings have that length.\n",
    "#\n",
    "# EXAMPLE:\n",
    "# sa_countries = [\"Brazil\", \"Venezuela\", \"Argentina\", \"Ecuador\", \"Bolivia\", \"Peru\"]\n",
    "# length_counts(sa_countries) =&gt; # {6: 1, 9: 2, 7: 2, 4: 1}\n",
    "# There is 1 string with 6 letters, 2 strings with 9 letters, \n",
    "# 2 strings with 7 letters, and 1 string with 4 letters."
   ]
  },
  {
   "cell_type": "code",
   "execution_count": 2,
   "id": "a612e486",
   "metadata": {},
   "outputs": [
    {
     "name": "stdout",
     "output_type": "stream",
     "text": [
      "The provided list is: ['Brazil', 'Venezuela', 'Argentina', 'Ecuador', 'Bolivia', 'Peru']\n",
      "The rquired dictionary is: {6: 1, 9: 2, 7: 2, 4: 1}\n"
     ]
    }
   ],
   "source": [
    "# Solution:\n",
    "\n",
    "def main():\n",
    "    list_from_user = get_list_from_user()\n",
    "    if list_from_user:\n",
    "        indx_nmbr = length_counts(list_from_user)\n",
    "        print(\"The provided list is:\", list_from_user)\n",
    "        print(\"The rquired dictionary is:\", indx_nmbr)\n",
    "\n",
    "def get_list_from_user():\n",
    "    user_list = []\n",
    "    try:\n",
    "        n = int(input(\"Enter the number of elements you want to insert in the list: \"))\n",
    "        if n <= 0:\n",
    "            print(\"Please enter a positive integer.\")\n",
    "            return None\n",
    "        for i in range(n):\n",
    "            ele = input(f\"Enter element {i + 1}: \")\n",
    "            user_list.append(ele)\n",
    "        return user_list\n",
    "    except ValueError:\n",
    "        print(\"Invalid input. Please enter a valid integer.\")\n",
    "        return None\n",
    "\n",
    "def length_counts(strings):\n",
    "    counts = {}\n",
    "    for string in strings:\n",
    "        length = len(string)\n",
    "        if length in counts:\n",
    "            counts[length] += 1\n",
    "        else:\n",
    "            counts[length] = 1\n",
    "    return counts\n",
    "\n",
    "if __name__ == \"__main__\":\n",
    "    main()\n"
   ]
  },
  {
   "cell_type": "markdown",
   "id": "b558aace",
   "metadata": {},
   "source": [
    "Break it down of code above:\n",
    "\n",
    "1. **Function Definition**:\n",
    "    - We define a function called `length_counts` that takes a list of strings (`strings`) as input.\n",
    "\n",
    "2. **Initializing an Empty Dictionary**:\n",
    "    - We create an empty dictionary called `counts`. This dictionary will store the counts of strings of different lengths.\n",
    "\n",
    "3. **Iterating Over the List of Strings**:\n",
    "    - We loop through each string in the input list (`strings`).\n",
    "\n",
    "4. **Counting the Lengths**:\n",
    "    - For each string, we calculate its length using the `len()` function and store it in the variable `length`.\n",
    "\n",
    "5. **Updating the Dictionary**:\n",
    "    - We check if the length (`length`) already exists as a key in the `counts` dictionary.\n",
    "    - If it does, we increment the count associated with that length by 1.\n",
    "    - If it doesn't, we add a new key-value pair to the dictionary with the length as the key and initialize the count to 1.\n",
    "\n",
    "6. **Returning the Result**:\n",
    "    - Once we have iterated through all the strings, we have counted the occurrences of each length.\n",
    "    - We return the `counts` dictionary, which contains the counts of strings of different lengths.\n",
    "\n",
    "So, the function `length_counts` returns a dictionary where the keys represent the lengths of the strings, and the values represent the counts of strings with those lengths. This dictionary is created and populated within the function, and it is returned as the output of the function."
   ]
  },
  {
   "cell_type": "code",
   "execution_count": null,
   "id": "67a8fc0a-b617-4508-982e-3adabfd756a0",
   "metadata": {},
   "outputs": [],
   "source": [
    "# Declare an invert function that accepts a dictionary object. \n",
    "# The function should return a new dictionary where the keys and values from the original dictionary are inverted. \n",
    "# Each key should now be a value, and each value should be a key. \n",
    "# Assume both the keys and values of the dictionary are immutable.\n",
    "#=> {'B': 'A', 'D': 'C', 'F': 'E'})\n",
    "# EXAMPLE:\n",
    "my_dict = {\n",
    "   \"A\": \"B\", \n",
    "   \"C\": \"D\",\n",
    "   \"E\": \"F\"\n",
    " }"
   ]
  },
  {
   "cell_type": "code",
   "execution_count": 4,
   "id": "3b7a1663",
   "metadata": {},
   "outputs": [
    {
     "name": "stdout",
     "output_type": "stream",
     "text": [
      "Original dictionary: {'a': 5, 'b': 3, 'c': 5}\n",
      "Inverted dictionary: {5: 'c', 3: 'b'}\n"
     ]
    }
   ],
   "source": [
    "# Solution:\n",
    "\n",
    "def main():\n",
    "    try:\n",
    "        user_input = input(\"Enter a dictionary (in the format {key1: value1, key2: value2, ...}): \")\n",
    "        dictionary = eval(user_input)  # Convert the string input to a dictionary\n",
    "        inverted_dictionary = invert(dictionary)\n",
    "        print(\"Original dictionary:\", dictionary)\n",
    "        print(\"Inverted dictionary:\", inverted_dictionary)\n",
    "    except SyntaxError:\n",
    "        print(\"Invalid dictionary format. Please enter a valid dictionary.\")\n",
    "\n",
    "def invert(dictionary):\n",
    "    inverted_dict = {}  # Create an empty dictionary to store the inverted key-value pairs\n",
    "    for key, value in dictionary.items():  # Iterate through each key-value pair in the original dictionary\n",
    "        inverted_dict[value] = key  # Assign the value as key and the key as value in the inverted dictionary\n",
    "    return inverted_dict  # Return the inverted dictionary\n",
    "\n",
    "\n",
    "if __name__ == \"__main__\":\n",
    "    main()\n"
   ]
  },
  {
   "cell_type": "code",
   "execution_count": null,
   "id": "d2306a25-f3df-49d2-869c-c64db2c43aeb",
   "metadata": {},
   "outputs": [],
   "source": [
    "# Declare a count_of_value function that accepts a dictionary and an integer.\n",
    "# It should return a count of the number of times the integer appears \n",
    "# as a value among the dictionary’s values.\n",
    "#\n",
    "# EXAMPLE:\n",
    "# my_dict = { \"a\" : 5, \"b\" : 3, \"c\" : 5 }\n",
    "#\n",
    "# count_of_value(my_dict, 5) => 2\n",
    "# count_of_value(my_dict, 3) => 1"
   ]
  },
  {
   "cell_type": "code",
   "execution_count": 6,
   "id": "cd5d4480",
   "metadata": {},
   "outputs": [
    {
     "name": "stdout",
     "output_type": "stream",
     "text": [
      "Original dictionary: {'a': 5, 'b': 3, 'c': 5}\n",
      "Value count: 1\n"
     ]
    }
   ],
   "source": [
    "# Solution:\n",
    "\n",
    "def main():\n",
    "    try:\n",
    "        user_input = input(\"Enter a dictionary (in the format {key1: value1, key2: value2, ...}): \")\n",
    "        int_value = int(input(\"Enter an integer to count: \"))\n",
    "        dictionary = eval(user_input)  # Convert the string input to a dictionary\n",
    "        count_the_value = count_of_value(dictionary,int_value)\n",
    "        print(\"Original dictionary:\", dictionary)\n",
    "        print(\"Value count:\", count_the_value)\n",
    "    except SyntaxError:\n",
    "        print(\"Invalid dictionary format. Please enter a valid dictionary.\")\n",
    "\n",
    "def count_of_value(dict, value):\n",
    "    count = 0  # Initialize a counter to keep track of the number of occurrences\n",
    "    for v in dict.values():  # Iterate through the values of the dictionary\n",
    "        if v == value:  # Check if the current value matches the specified value\n",
    "            count += 1  # If a match is found, increment the counter\n",
    "    return count  # Return the total count of occurrences\n",
    "\n",
    "if __name__ == \"__main__\":\n",
    "    main()"
   ]
  },
  {
   "cell_type": "code",
   "execution_count": null,
   "id": "8225f476-edce-402f-880c-fbb282de553b",
   "metadata": {},
   "outputs": [],
   "source": [
    "# Declare a sum_of_values function that accepts a dictionary and a list of strings.\n",
    "# The dictionary will have keys of strings and values of numbers.\n",
    "#\n",
    "# The function should return the sum of values for dictionary \n",
    "# keys that are also found in the list.\n",
    "#\n",
    "# NOTE: sum is a reserved keyword in Python. Don’t use it as a variable name.\n",
    "#\n",
    "# EXAMPLES:\n",
    "# my_dict = { \"a\": 5, \"b\": 3, \"c\": 10 }\n",
    "#\n",
    "# sum_of_values(my_dict, [\"a\"])            => 5\n",
    "# sum_of_values(my_dict, [\"a\", \"c\"])       => 15\n",
    "# sum_of_values(my_dict, [\"a\", \"c\", \"b\"])  => 18\n",
    "# sum_of_values(my_dict, [\"z\"])            => 0"
   ]
  },
  {
   "cell_type": "code",
   "execution_count": 8,
   "id": "d5797145",
   "metadata": {},
   "outputs": [
    {
     "name": "stdout",
     "output_type": "stream",
     "text": [
      "{'a': 5.0, 'b': 3.0, 'c': 10.0}\n",
      "['a']\n",
      "The sum of values for keys found in the list: 5.0\n"
     ]
    }
   ],
   "source": [
    "# Solution:\n",
    "\n",
    "def get_dictionary_from_user():\n",
    "    user_dict = {}\n",
    "    try:\n",
    "        n = int(input(\"Enter the number of key-value pairs in the dictionary: \"))\n",
    "        if n <= 0:\n",
    "            print(\"Please enter a positive integer.\")\n",
    "            return None\n",
    "        for i in range(n):\n",
    "            key = input(f\"Enter key {i + 1}: \")\n",
    "            value = float(input(f\"Enter value for {key}: \"))\n",
    "            user_dict[key] = value\n",
    "        return user_dict\n",
    "    except ValueError:\n",
    "        print(\"Invalid input. Please enter a valid integer or float.\")\n",
    "        return None\n",
    "\n",
    "def get_list_from_user():\n",
    "    user_list = []\n",
    "    try:\n",
    "        n = int(input(\"Enter the number of elements in the list: \"))\n",
    "        if n <= 0:\n",
    "            print(\"Please enter a positive integer.\")\n",
    "            return None\n",
    "        for i in range(n):\n",
    "            ele = input(f\"Enter element {i + 1}: \")\n",
    "            user_list.append(ele)\n",
    "        return user_list\n",
    "    except ValueError:\n",
    "        print(\"Invalid input. Please enter a valid integer.\")\n",
    "        return None\n",
    "\n",
    "def sum_of_values(dictionary, list_of_strings):\n",
    "    total_sum = 0\n",
    "    for key in dictionary:\n",
    "        if key in list_of_strings:\n",
    "            total_sum += dictionary[key]\n",
    "    return total_sum\n",
    "\n",
    "def main():\n",
    "    user_dict = get_dictionary_from_user()\n",
    "    user_list = get_list_from_user()\n",
    "    print(\"User dictionary: \",user_dict)\n",
    "    print(\"User list: \",user_list)\n",
    "    if user_dict is not None and user_list is not None:\n",
    "        result = sum_of_values(user_dict, user_list)\n",
    "        print(\"The sum of values for keys found in the list:\", result)\n",
    "\n",
    "if __name__ == \"__main__\":\n",
    "    main()\n"
   ]
  },
  {
   "cell_type": "code",
   "execution_count": null,
   "id": "3de43305-3fc1-44e3-a6e8-8c571d1ae07c",
   "metadata": {},
   "outputs": [],
   "source": []
  },
  {
   "cell_type": "code",
   "execution_count": null,
   "id": "3cb77515-eba2-4fe9-90ee-f05738cfab3b",
   "metadata": {},
   "outputs": [],
   "source": []
  }
 ],
 "metadata": {
  "kernelspec": {
   "display_name": "Python 3 (ipykernel)",
   "language": "python",
   "name": "python3"
  },
  "language_info": {
   "codemirror_mode": {
    "name": "ipython",
    "version": 3
   },
   "file_extension": ".py",
   "mimetype": "text/x-python",
   "name": "python",
   "nbconvert_exporter": "python",
   "pygments_lexer": "ipython3",
   "version": "3.12.3"
  }
 },
 "nbformat": 4,
 "nbformat_minor": 5
}
